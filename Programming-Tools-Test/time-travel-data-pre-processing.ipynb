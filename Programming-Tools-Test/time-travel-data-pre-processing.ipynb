{
 "cells": [
  {
   "cell_type": "code",
   "execution_count": null,
   "metadata": {},
   "outputs": [],
   "source": [
    "import pandas as pd\n",
    "import numpy as np\n",
    "import os\n",
    "from pandas.errors import EmptyDataError \n",
    "from collections import deque # structures to hold the states inside\n",
    "from datetime import timedelta\n",
    "from enum import Enum, unique\n",
    "from numpy.core import datetime64\n",
    "\n",
    "import matplotlib.pyplot as plt"
   ]
  },
  {
   "cell_type": "code",
   "execution_count": null,
   "metadata": {},
   "outputs": [],
   "source": [
    "# # Constants\n",
    "DATA_PATH = './archive/Stocks/'\n",
    "\n",
    "DISCARDED_FILES_DIR = 'discarded/'\n",
    " \n",
    "MERGED_DATA_DIR = 'merged/'\n",
    "\n",
    "if not os.path.exists(DATA_PATH + DISCARDED_FILES_DIR): os.mkdir(DATA_PATH + DISCARDED_FILES_DIR)"
   ]
  },
  {
   "cell_type": "code",
   "execution_count": null,
   "metadata": {},
   "outputs": [],
   "source": [
    "def file_is_empty(file):\n",
    "    return file_size_is_less_or_equal_than(file, 0)\n",
    "\n",
    "def file_size_is_less_or_equal_than(file, targetSize):\n",
    "    return (True if os.path.getsize(file) <= targetSize else False)\n",
    "\n",
    "def get_empty_input_files(directory):\n",
    "    empty_files = []\n",
    "    non_empty_files = []\n",
    "    for filename in os.listdir(directory):\n",
    "        f = os.path.join(directory, filename)\n",
    "        if os.path.isfile(f):\n",
    "            if file_is_empty(f):\n",
    "                empty_files.append(f)\n",
    "                os.rename(f, os.path.join(directory, DISCARDED_FILES_DIR, filename)) # move files to DISCARDED_FILES_DIR\n",
    "            else:\n",
    "                non_empty_files.append(f)\n",
    "    return (empty_files, non_empty_files)\n",
    "\n",
    "# def get_input_files_with_few_records(directory):\n",
    "#     files_with_few_records = []\n",
    "#     for filename in os.listdir(directory):\n",
    "#         f = os.path.join(directory, filename)\n",
    "#         if os.path.isfile(f):\n",
    "#             if file_size_is_less_or_equal_than(f, 159): # 159 bytes, the value is not intuitive but we have seen the data\n",
    "#                 files_with_few_records.append(f)\n",
    "#     return files_with_few_records\n",
    "\n",
    "def get_stock_name_from_file(filename):\n",
    "    # './archive/Stocks/a.us.txt'\n",
    "    return filename.split('/')[-1].split('.')[0]"
   ]
  },
  {
   "cell_type": "code",
   "execution_count": null,
   "metadata": {},
   "outputs": [],
   "source": [
    "files = get_empty_input_files(DATA_PATH)"
   ]
  },
  {
   "cell_type": "code",
   "execution_count": null,
   "metadata": {},
   "outputs": [],
   "source": [
    "data_df = pd.read_csv(files[1][0])\n",
    "\n",
    "data_df['StockName'] = get_stock_name_from_file(files[1][0])\n",
    "\n",
    "data_df.head()"
   ]
  },
  {
   "cell_type": "code",
   "execution_count": null,
   "metadata": {},
   "outputs": [],
   "source": [
    "global_df = pd.read_csv(files[1][0])\n",
    "global_df['StockName'] = get_stock_name_from_file(files[1][0])\n",
    "\n",
    "\n",
    "print(files[1][1:2])\n",
    "\n",
    "for file in files[1][1:]:\n",
    "    df = pd.read_csv(file)\n",
    "    df['StockName'] = get_stock_name_from_file(file)\n",
    "    global_df = pd.concat([global_df, df])\n",
    "\n",
    "    \n",
    "global_df"
   ]
  },
  {
   "cell_type": "code",
   "execution_count": null,
   "metadata": {},
   "outputs": [],
   "source": [
    "MERGED_DATA_DIR = 'merged/'\n",
    "\n",
    "if not os.path.exists(DATA_PATH + MERGED_DATA_DIR): os.mkdir(DATA_PATH + MERGED_DATA_DIR)\n",
    "    \n",
    "global_df.to_pickle(DATA_PATH + MERGED_DATA_DIR + \"all_stocks.pkl\")"
   ]
  },
  {
   "cell_type": "code",
   "execution_count": null,
   "metadata": {},
   "outputs": [],
   "source": []
  }
 ],
 "metadata": {
  "kernelspec": {
   "display_name": "Python 3",
   "language": "python",
   "name": "python3"
  },
  "language_info": {
   "codemirror_mode": {
    "name": "ipython",
    "version": 3
   },
   "file_extension": ".py",
   "mimetype": "text/x-python",
   "name": "python",
   "nbconvert_exporter": "python",
   "pygments_lexer": "ipython3",
   "version": "3.9.0"
  }
 },
 "nbformat": 4,
 "nbformat_minor": 4
}
